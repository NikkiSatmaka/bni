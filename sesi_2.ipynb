{
 "cells": [
  {
   "cell_type": "markdown",
   "metadata": {},
   "source": [
    "# Control Flow\n",
    "\n",
    "## Comparison Operator\n",
    "- Equals: a == b\n",
    "- Not Equals: a != b\n",
    "- Less than: a < b\n",
    "- Less than or equal to: a <= b\n",
    "- Greater than: a > b\n",
    "- Greater than or equal to: a >= b"
   ]
  },
  {
   "cell_type": "markdown",
   "metadata": {},
   "source": [
    "```\n",
    "if syarat:\n",
    "    statement, jalan hanya jika syarat terpenuhi\n",
    "```"
   ]
  },
  {
   "cell_type": "code",
   "execution_count": 3,
   "metadata": {},
   "outputs": [
    {
     "name": "stdout",
     "output_type": "stream",
     "text": [
      "yes\n",
      "yes\n",
      "yes\n",
      "yes\n"
     ]
    }
   ],
   "source": [
    "x = 0\n",
    "y = 5\n",
    "\n",
    "if True:\n",
    "    print('yes')\n",
    "\n",
    "if False:\n",
    "    print('ga akan jalan')\n",
    "\n",
    "if x < y:                            # Truthy\n",
    "    print('yes')\n",
    "\n",
    "if y < x:                            # Falsy\n",
    "    print('yes')\n",
    "\n",
    "if x:                                # Falsy\n",
    "    print('yes')\n",
    "\n",
    "if y:                                # Truthy\n",
    "    print('yes')\n",
    "\n",
    "if x != 0:\n",
    "    print('yes')\n",
    "\n",
    "if 'aul' in 'grault':                # Truthy\n",
    "    print('yes')\n",
    "\n",
    "if 'quux' in ['foo', 'bar', 'baz']:  # Falsy\n",
    "    print('yes')\n"
   ]
  },
  {
   "cell_type": "code",
   "execution_count": 95,
   "metadata": {},
   "outputs": [
    {
     "name": "stdout",
     "output_type": "stream",
     "text": [
      "hello\n",
      "hello\n"
     ]
    }
   ],
   "source": [
    "if True:\n",
    "    print(\"hello\")\n",
    "    print(\"hello\")\n"
   ]
  },
  {
   "cell_type": "code",
   "execution_count": 96,
   "metadata": {},
   "outputs": [
    {
     "name": "stdout",
     "output_type": "stream",
     "text": [
      "hello\n",
      "Expression was true\n",
      "Executing statement in suite\n",
      "...\n",
      "Done.\n",
      "After conditional\n"
     ]
    }
   ],
   "source": [
    "print(\"hello\")\n",
    "\n",
    "# if 'foo' not in ['bar', 'baz', 'qux']:\n",
    "if True:\n",
    "    print('Expression was true')\n",
    "    print('Executing statement in suite')\n",
    "    print('...')\n",
    "    print('Done.')\n",
    "\n",
    "print('After conditional')\n"
   ]
  },
  {
   "cell_type": "code",
   "execution_count": 14,
   "metadata": {},
   "outputs": [
    {
     "name": "stdout",
     "output_type": "stream",
     "text": [
      "Outer condition is true\n",
      "Between inner conditions\n",
      "Inner condition 2\n",
      "End of outer condition\n",
      "After outer condition\n"
     ]
    }
   ],
   "source": [
    "# Does line execute?                        Yes    No\n",
    "#                                           ---    --\n",
    "if 'foo' in ['foo', 'bar', 'baz']:        #  x\n",
    "    print('Outer condition is true')      #  x\n",
    "\n",
    "    if 10 > 20:                           #  x\n",
    "        print('Inner condition 1')        #        x\n",
    "        if True:\n",
    "            print(\"dadah\")\n",
    "\n",
    "    print('Between inner conditions')     #  x\n",
    "\n",
    "    if 10 < 20:                           #  x\n",
    "        print('Inner condition 2')        #  x\n",
    "\n",
    "    print('End of outer condition')       #  x\n",
    "print('After outer condition')            #  x\n"
   ]
  },
  {
   "cell_type": "code",
   "execution_count": 21,
   "metadata": {},
   "outputs": [
    {
     "name": "stdout",
     "output_type": "stream",
     "text": [
      "suka suka\n",
      "diganti juga\n",
      "20\n"
     ]
    }
   ],
   "source": [
    "x = 70\n",
    "\n",
    "if x < 50:\n",
    "    print('(first suite)')\n",
    "    print('x is small')\n",
    "    print(x + 50)\n",
    "else:\n",
    "    print('suka suka')\n",
    "    print('diganti juga')\n",
    "    print(x - 50)\n"
   ]
  },
  {
   "cell_type": "code",
   "execution_count": 23,
   "metadata": {},
   "outputs": [
    {
     "name": "stdout",
     "output_type": "stream",
     "text": [
      "uang tidak cukup\n",
      "silakan pinjam melalui .....\n"
     ]
    }
   ],
   "source": [
    "hargaBuku = 20000\n",
    "hargaMajalah = 5000\n",
    "uang = 2000\n",
    "\n",
    "if uang > hargaBuku:\n",
    "    print(\"beli buku\")\n",
    "else:\n",
    "    print(\"uang tidak cukup\")\n",
    "    print(\"silakan pinjam melalui .....\")\n"
   ]
  },
  {
   "cell_type": "code",
   "execution_count": 32,
   "metadata": {},
   "outputs": [
    {
     "name": "stdout",
     "output_type": "stream",
     "text": [
      "beli buku\n"
     ]
    }
   ],
   "source": [
    "hargaBuku = 10000\n",
    "hargaMajalah = 15000\n",
    "uang = 20000\n",
    "\n",
    "if uang > hargaBuku + hargaMajalah:\n",
    "    print(\"beli buku and majalah\")\n",
    "elif uang > hargaBuku:\n",
    "    print(\"beli buku\")\n",
    "elif uang > hargaMajalah:\n",
    "    print(\"beli majalah\")\n",
    "else:\n",
    "    print(\"uang tidak cukup\")\n"
   ]
  },
  {
   "cell_type": "code",
   "execution_count": 35,
   "metadata": {},
   "outputs": [
    {
     "name": "stdout",
     "output_type": "stream",
     "text": [
      "Hello Fred\n"
     ]
    }
   ],
   "source": [
    "name = 'Hacktiv8'\n",
    "# if name == 'Fred':\n",
    "if True:\n",
    "    print('Hello Fred')\n",
    "\n",
    "if True:\n",
    "    print('Hello Xander')\n",
    "\n",
    "\n",
    "if True:\n",
    "    print('Hello Hacktiv8')\n",
    "elif True:\n",
    "    print('Hello Arnold')\n",
    "else:\n",
    "    print(\"I don't know who you are!\")\n",
    "\n"
   ]
  },
  {
   "cell_type": "code",
   "execution_count": 38,
   "metadata": {},
   "outputs": [
    {
     "name": "stdout",
     "output_type": "stream",
     "text": [
      "1\n",
      "2\n",
      "3\n"
     ]
    }
   ],
   "source": [
    "if 'f' in 'foo': print('1'); print('2'); print('3')\n"
   ]
  },
  {
   "cell_type": "code",
   "execution_count": 37,
   "metadata": {},
   "outputs": [
    {
     "name": "stdout",
     "output_type": "stream",
     "text": [
      "Hello Hacktiv8\n"
     ]
    }
   ],
   "source": [
    "if 10 > 5: print('Hello Hacktiv8')\n"
   ]
  },
  {
   "cell_type": "code",
   "execution_count": 41,
   "metadata": {},
   "outputs": [
    {
     "name": "stdout",
     "output_type": "stream",
     "text": [
      "qux quux\n"
     ]
    }
   ],
   "source": [
    "x = 2\n",
    "\n",
    "if x == 1: print('foo'); print('bar'); print('baz')\n",
    "elif x == 2: print('qux', end=\" \"); print('quux')\n",
    "else: print('corge'); print('grault')\n"
   ]
  },
  {
   "cell_type": "code",
   "execution_count": 42,
   "metadata": {},
   "outputs": [
    {
     "name": "stdout",
     "output_type": "stream",
     "text": [
      "Help on built-in function print in module builtins:\n",
      "\n",
      "print(*args, sep=' ', end='\\n', file=None, flush=False)\n",
      "    Prints the values to a stream, or to sys.stdout by default.\n",
      "    \n",
      "    sep\n",
      "      string inserted between values, default a space.\n",
      "    end\n",
      "      string appended after the last value, default a newline.\n",
      "    file\n",
      "      a file-like object (stream); defaults to the current sys.stdout.\n",
      "    flush\n",
      "      whether to forcibly flush the stream.\n",
      "\n"
     ]
    }
   ],
   "source": [
    "help(print)\n"
   ]
  },
  {
   "cell_type": "code",
   "execution_count": 45,
   "metadata": {},
   "outputs": [],
   "source": [
    "if True:\n",
    "    pass\n"
   ]
  },
  {
   "cell_type": "code",
   "execution_count": null,
   "metadata": {},
   "outputs": [],
   "source": [
    "(n -= 1) == (n = n - 1)\n"
   ]
  },
  {
   "cell_type": "code",
   "execution_count": 51,
   "metadata": {},
   "outputs": [],
   "source": [
    "from time import sleep\n"
   ]
  },
  {
   "cell_type": "code",
   "execution_count": 53,
   "metadata": {},
   "outputs": [
    {
     "name": "stdout",
     "output_type": "stream",
     "text": [
      "4\n",
      "3\n",
      "2\n",
      "1\n",
      "0\n"
     ]
    }
   ],
   "source": [
    "n = 5\n",
    "while n > 0:  # 5 4 3 2 1 0\n",
    "    n -= 1\n",
    "    # 4 3 2 1 0\n",
    "    print(n)  # 4 3 2 1 0\n"
   ]
  },
  {
   "cell_type": "code",
   "execution_count": 55,
   "metadata": {},
   "outputs": [
    {
     "name": "stdout",
     "output_type": "stream",
     "text": [
      "5\n",
      "4\n",
      "3\n",
      "2\n",
      "1\n"
     ]
    }
   ],
   "source": [
    "n = 5\n",
    "while n > 0:  # 5 4 3 2 1 0\n",
    "    print(n)  # 5 4 3 2 1\n",
    "    n -= 1\n",
    "    # 4 3 2 1 0\n"
   ]
  },
  {
   "cell_type": "code",
   "execution_count": 104,
   "metadata": {},
   "outputs": [
    {
     "name": "stdout",
     "output_type": "stream",
     "text": [
      "1\n",
      "0\n",
      "-1\n",
      "-2\n",
      "-3\n",
      "-4\n",
      "lanjutin\n"
     ]
    }
   ],
   "source": [
    "i = 1\n",
    "while True:\n",
    "    print(i)\n",
    "    i -= 1\n",
    "    if i == -5:\n",
    "        break\n",
    "\n",
    "print(\"lanjutin\")\n"
   ]
  },
  {
   "cell_type": "code",
   "execution_count": 111,
   "metadata": {},
   "outputs": [
    {
     "name": "stdout",
     "output_type": "stream",
     "text": [
      "4\n",
      "3\n",
      "1\n",
      "0\n",
      "Loop ended.\n"
     ]
    }
   ],
   "source": [
    "n = 5\n",
    "while n > 0:\n",
    "    n -= 1\n",
    "    if n == 2:\n",
    "        continue\n",
    "    print(n)\n",
    "\n",
    "print('Loop ended.')\n"
   ]
  },
  {
   "cell_type": "code",
   "execution_count": 117,
   "metadata": {},
   "outputs": [
    {
     "name": "stdout",
     "output_type": "stream",
     "text": [
      "5\n",
      "-------------------\n",
      "4\n",
      "##### next iteration ######\n",
      "4\n",
      "-------------------\n",
      "3\n",
      "##### next iteration ######\n",
      "3\n",
      "-------------------\n",
      "2\n",
      "##### next iteration ######\n",
      "2\n",
      "-------------------\n",
      "1\n",
      "##### next iteration ######\n",
      "1\n",
      "-------------------\n",
      "0\n",
      "##### next iteration ######\n",
      "Loop done.\n"
     ]
    }
   ],
   "source": [
    "n = 5\n",
    "while n > 0:\n",
    "    print(n)\n",
    "    n -= 1\n",
    "    print(\"-------------------\")\n",
    "    print(n)\n",
    "    print(\"##### next iteration ######\")\n",
    "else:\n",
    "    print('Loop done.')\n"
   ]
  },
  {
   "cell_type": "code",
   "execution_count": 127,
   "metadata": {},
   "outputs": [
    {
     "ename": "SyntaxError",
     "evalue": "invalid syntax. Perhaps you forgot a comma? (2421502140.py, line 1)",
     "output_type": "error",
     "traceback": [
      "\u001b[0;36m  Cell \u001b[0;32mIn[127], line 1\u001b[0;36m\u001b[0m\n\u001b[0;31m    type(h a l o)\u001b[0m\n\u001b[0m         ^\u001b[0m\n\u001b[0;31mSyntaxError\u001b[0m\u001b[0;31m:\u001b[0m invalid syntax. Perhaps you forgot a comma?\n"
     ]
    }
   ],
   "source": [
    "type(h a l o)\n"
   ]
  },
  {
   "cell_type": "code",
   "execution_count": 129,
   "metadata": {},
   "outputs": [
    {
     "data": {
      "text/plain": [
       "10"
      ]
     },
     "execution_count": 129,
     "metadata": {},
     "output_type": "execute_result"
    }
   ],
   "source": [
    "len(\"h a l 3 o,\")\n"
   ]
  },
  {
   "cell_type": "code",
   "execution_count": 131,
   "metadata": {},
   "outputs": [
    {
     "data": {
      "text/plain": [
       "7"
      ]
     },
     "execution_count": 131,
     "metadata": {},
     "output_type": "execute_result"
    }
   ],
   "source": [
    "len([1, \"aple\", 3, 4, 5, 8, 9])\n"
   ]
  },
  {
   "cell_type": "code",
   "execution_count": 122,
   "metadata": {},
   "outputs": [
    {
     "data": {
      "text/plain": [
       "7"
      ]
     },
     "execution_count": 122,
     "metadata": {},
     "output_type": "execute_result"
    }
   ],
   "source": [
    "len((1, 2, 3, 4, 5, 8, 9))\n"
   ]
  },
  {
   "cell_type": "code",
   "execution_count": 119,
   "metadata": {},
   "outputs": [
    {
     "data": {
      "text/plain": [
       "7"
      ]
     },
     "execution_count": 119,
     "metadata": {},
     "output_type": "execute_result"
    }
   ],
   "source": [
    "len([1, 2, 3, 4, 5, 8, 9])\n"
   ]
  },
  {
   "cell_type": "code",
   "execution_count": 132,
   "metadata": {},
   "outputs": [
    {
     "name": "stdout",
     "output_type": "stream",
     "text": [
      "foo\n",
      "> baz\n",
      "> qux\n",
      "bar\n",
      "> baz\n",
      "> qux\n"
     ]
    }
   ],
   "source": [
    "a = ['foo', 'bar']\n",
    "\n",
    "while len(a):\n",
    "    print(a.pop(0))\n",
    "\n",
    "    b = ['baz', 'qux']\n",
    "\n",
    "    while len(b):\n",
    "        print('>', b.pop(0))\n"
   ]
  },
  {
   "cell_type": "code",
   "execution_count": 133,
   "metadata": {},
   "outputs": [
    {
     "name": "stdout",
     "output_type": "stream",
     "text": [
      "foo\n",
      "bar\n",
      "baz\n"
     ]
    }
   ],
   "source": [
    "a = ['foo', 'bar', 'baz']\n",
    "for i in a:\n",
    "    print(i)\n"
   ]
  },
  {
   "cell_type": "code",
   "execution_count": 137,
   "metadata": {},
   "outputs": [
    {
     "name": "stdout",
     "output_type": "stream",
     "text": [
      "f\n",
      "o\n",
      "o\n"
     ]
    }
   ],
   "source": [
    "for _alpha in \"foo\":\n",
    "    print(_alpha)\n"
   ]
  }
 ],
 "metadata": {
  "kernelspec": {
   "display_name": "Python 3",
   "language": "python",
   "name": "python3"
  },
  "language_info": {
   "codemirror_mode": {
    "name": "ipython",
    "version": 3
   },
   "file_extension": ".py",
   "mimetype": "text/x-python",
   "name": "python",
   "nbconvert_exporter": "python",
   "pygments_lexer": "ipython3",
   "version": "3.11.6"
  }
 },
 "nbformat": 4,
 "nbformat_minor": 2
}
